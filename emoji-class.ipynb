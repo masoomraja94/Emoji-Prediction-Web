{
 "cells": [
  {
   "cell_type": "code",
   "execution_count": 1,
   "metadata": {},
   "outputs": [
    {
     "name": "stdout",
     "output_type": "stream",
     "text": [
      "Requirement already satisfied: emoji in c:\\users\\masoo\\appdata\\local\\programs\\python\\python37\\lib\\site-packages (0.6.0)"
     ]
    },
    {
     "name": "stderr",
     "output_type": "stream",
     "text": [
      "WARNING: You are using pip version 20.1.1; however, version 20.2.2 is available.\n",
      "You should consider upgrading via the 'c:\\users\\masoo\\appdata\\local\\programs\\python\\python37\\python.exe -m pip install --upgrade pip' command.\n"
     ]
    },
    {
     "name": "stdout",
     "output_type": "stream",
     "text": [
      "\n"
     ]
    }
   ],
   "source": [
    "!pip install emoji"
   ]
  },
  {
   "cell_type": "code",
   "execution_count": 2,
   "metadata": {},
   "outputs": [],
   "source": [
    "import numpy as np\n",
    "import pandas as pd"
   ]
  },
  {
   "cell_type": "code",
   "execution_count": 3,
   "metadata": {},
   "outputs": [],
   "source": [
    "train = pd.read_csv('dataset/train_emoji.csv',header=None)\n",
    "test = pd.read_csv('dataset/test_emoji.csv',header=None)"
   ]
  },
  {
   "cell_type": "code",
   "execution_count": 4,
   "metadata": {},
   "outputs": [
    {
     "data": {
      "text/html": [
       "<div>\n",
       "<style scoped>\n",
       "    .dataframe tbody tr th:only-of-type {\n",
       "        vertical-align: middle;\n",
       "    }\n",
       "\n",
       "    .dataframe tbody tr th {\n",
       "        vertical-align: top;\n",
       "    }\n",
       "\n",
       "    .dataframe thead th {\n",
       "        text-align: right;\n",
       "    }\n",
       "</style>\n",
       "<table border=\"1\" class=\"dataframe\">\n",
       "  <thead>\n",
       "    <tr style=\"text-align: right;\">\n",
       "      <th></th>\n",
       "      <th>0</th>\n",
       "      <th>1</th>\n",
       "      <th>2</th>\n",
       "      <th>3</th>\n",
       "    </tr>\n",
       "  </thead>\n",
       "  <tbody>\n",
       "    <tr>\n",
       "      <th>0</th>\n",
       "      <td>never talk to me again</td>\n",
       "      <td>3</td>\n",
       "      <td>NaN</td>\n",
       "      <td>NaN</td>\n",
       "    </tr>\n",
       "    <tr>\n",
       "      <th>1</th>\n",
       "      <td>I am proud of your achievements</td>\n",
       "      <td>2</td>\n",
       "      <td>NaN</td>\n",
       "      <td>NaN</td>\n",
       "    </tr>\n",
       "    <tr>\n",
       "      <th>2</th>\n",
       "      <td>It is the worst day in my life</td>\n",
       "      <td>3</td>\n",
       "      <td>NaN</td>\n",
       "      <td>NaN</td>\n",
       "    </tr>\n",
       "    <tr>\n",
       "      <th>3</th>\n",
       "      <td>Miss you so much</td>\n",
       "      <td>0</td>\n",
       "      <td>NaN</td>\n",
       "      <td>[0]</td>\n",
       "    </tr>\n",
       "    <tr>\n",
       "      <th>4</th>\n",
       "      <td>food is life</td>\n",
       "      <td>4</td>\n",
       "      <td>NaN</td>\n",
       "      <td>NaN</td>\n",
       "    </tr>\n",
       "  </tbody>\n",
       "</table>\n",
       "</div>"
      ],
      "text/plain": [
       "                                 0  1   2     3\n",
       "0           never talk to me again  3 NaN   NaN\n",
       "1  I am proud of your achievements  2 NaN   NaN\n",
       "2   It is the worst day in my life  3 NaN   NaN\n",
       "3                 Miss you so much  0 NaN   [0]\n",
       "4                     food is life  4 NaN   NaN"
      ]
     },
     "execution_count": 4,
     "metadata": {},
     "output_type": "execute_result"
    }
   ],
   "source": [
    "train.head()"
   ]
  },
  {
   "cell_type": "code",
   "execution_count": 5,
   "metadata": {},
   "outputs": [],
   "source": [
    "import emoji as emoji"
   ]
  },
  {
   "cell_type": "code",
   "execution_count": 6,
   "metadata": {},
   "outputs": [],
   "source": [
    "#emoji.EMOJI_ALIAS_UNICODE"
   ]
  },
  {
   "cell_type": "code",
   "execution_count": 7,
   "metadata": {},
   "outputs": [],
   "source": [
    "emoji_dictionary = {\"0\": \"\\u2764\\uFE0F\",    # :heart: prints a black instead of red heart depending on the font\n",
    "                    \"1\": \":baseball:\",\n",
    "                    \"2\": \":beaming_face_with_smiling_eyes:\",\n",
    "                    \"3\": \":downcast_face_with_sweat:\",\n",
    "                    \"4\": \":fork_and_knife:\",\n",
    "                   }"
   ]
  },
  {
   "cell_type": "code",
   "execution_count": 8,
   "metadata": {},
   "outputs": [
    {
     "data": {
      "text/plain": [
       "'🍴'"
      ]
     },
     "execution_count": 8,
     "metadata": {},
     "output_type": "execute_result"
    }
   ],
   "source": [
    "emoji.emojize(\":fork_and_knife:\")"
   ]
  },
  {
   "cell_type": "code",
   "execution_count": 9,
   "metadata": {},
   "outputs": [
    {
     "name": "stdout",
     "output_type": "stream",
     "text": [
      "❤️\n",
      "⚾\n",
      "😁\n",
      "😓\n",
      "🍴\n"
     ]
    }
   ],
   "source": [
    "for e in emoji_dictionary.values():\n",
    "    print(emoji.emojize(e))"
   ]
  },
  {
   "cell_type": "code",
   "execution_count": 10,
   "metadata": {},
   "outputs": [
    {
     "name": "stdout",
     "output_type": "stream",
     "text": [
      "never talk to me again 😓\n",
      "I am proud of your achievements 😁\n",
      "It is the worst day in my life 😓\n",
      "Miss you so much ❤️\n",
      "food is life 🍴\n",
      "I love you mum ❤️\n",
      "Stop saying bullshit 😓\n",
      "congratulations on your acceptance 😁\n",
      "The assignment is too long  😓\n",
      "I want to go play ⚾\n"
     ]
    }
   ],
   "source": [
    "data = train.values\n",
    "for i in range(10):\n",
    "    print(data[i][0],emoji.emojize(emoji_dictionary[str(data[i][1])]))"
   ]
  },
  {
   "cell_type": "code",
   "execution_count": 11,
   "metadata": {},
   "outputs": [
    {
     "name": "stderr",
     "output_type": "stream",
     "text": [
      "Using TensorFlow backend.\n"
     ]
    }
   ],
   "source": [
    "from keras.utils import to_categorical"
   ]
  },
  {
   "cell_type": "code",
   "execution_count": 12,
   "metadata": {},
   "outputs": [
    {
     "name": "stdout",
     "output_type": "stream",
     "text": [
      "(132,)\n",
      "(56,)\n",
      "(132, 5)\n",
      "(56, 5)\n"
     ]
    }
   ],
   "source": [
    "XT = train[0]\n",
    "Xt = test[0]\n",
    "\n",
    "YT = to_categorical(train[1])\n",
    "Yt = to_categorical(test[1])\n",
    "\n",
    "\n",
    "print(XT.shape)\n",
    "print(Xt.shape)\n",
    "print(YT.shape)\n",
    "print(Yt.shape)"
   ]
  },
  {
   "cell_type": "code",
   "execution_count": 13,
   "metadata": {},
   "outputs": [],
   "source": [
    "embeddings = {}\n",
    "with open('glove.6B.50d.txt',encoding='utf-8') as f:\n",
    "    for line in f:\n",
    "        values = line.split()\n",
    "        word = values[0]\n",
    "        coeffs = np.asarray(values[1:],dtype='float32')\n",
    "        \n",
    "        #print(word)\n",
    "        #print(coeffs)\n",
    "        embeddings[word] = coeffs"
   ]
  },
  {
   "cell_type": "code",
   "execution_count": 14,
   "metadata": {},
   "outputs": [],
   "source": [
    "def getOutputEmbeddings(X):\n",
    "    \n",
    "    embedding_matrix_output = np.zeros((X.shape[0],10,50))\n",
    "    for ix in range(X.shape[0]):\n",
    "        X[ix] = X[ix].split()\n",
    "        for jx in range(len(X[ix])):\n",
    "            embedding_matrix_output[ix][jx] = embeddings[X[ix][jx].lower()]\n",
    "            \n",
    "    return embedding_matrix_output"
   ]
  },
  {
   "cell_type": "code",
   "execution_count": 15,
   "metadata": {},
   "outputs": [
    {
     "data": {
      "text/plain": [
       "'I am proud of your achievements'"
      ]
     },
     "execution_count": 15,
     "metadata": {},
     "output_type": "execute_result"
    }
   ],
   "source": [
    "XT[1]"
   ]
  },
  {
   "cell_type": "code",
   "execution_count": 16,
   "metadata": {},
   "outputs": [
    {
     "name": "stderr",
     "output_type": "stream",
     "text": [
      "c:\\users\\masoo\\appdata\\local\\programs\\python\\python37\\lib\\site-packages\\ipykernel_launcher.py:5: SettingWithCopyWarning: \n",
      "A value is trying to be set on a copy of a slice from a DataFrame\n",
      "\n",
      "See the caveats in the documentation: https://pandas.pydata.org/pandas-docs/stable/user_guide/indexing.html#returning-a-view-versus-a-copy\n",
      "  \"\"\"\n"
     ]
    }
   ],
   "source": [
    "emb_XT = getOutputEmbeddings(XT)\n",
    "emb_Xt = getOutputEmbeddings(Xt)"
   ]
  },
  {
   "cell_type": "code",
   "execution_count": 17,
   "metadata": {},
   "outputs": [
    {
     "name": "stdout",
     "output_type": "stream",
     "text": [
      "(132, 10, 50)\n",
      "(56, 10, 50)\n"
     ]
    }
   ],
   "source": [
    "print(emb_XT.shape)\n",
    "print(emb_Xt.shape)\n"
   ]
  },
  {
   "cell_type": "code",
   "execution_count": 18,
   "metadata": {},
   "outputs": [],
   "source": [
    "from keras.layers import LSTM, Dropout, Dense, Activation\n",
    "from keras.models import Sequential"
   ]
  },
  {
   "cell_type": "code",
   "execution_count": 19,
   "metadata": {},
   "outputs": [
    {
     "name": "stdout",
     "output_type": "stream",
     "text": [
      "Model: \"sequential_1\"\n",
      "_________________________________________________________________\n",
      "Layer (type)                 Output Shape              Param #   \n",
      "=================================================================\n",
      "lstm_1 (LSTM)                (None, 10, 64)            29440     \n",
      "_________________________________________________________________\n",
      "dropout_1 (Dropout)          (None, 10, 64)            0         \n",
      "_________________________________________________________________\n",
      "lstm_2 (LSTM)                (None, 64)                33024     \n",
      "_________________________________________________________________\n",
      "dropout_2 (Dropout)          (None, 64)                0         \n",
      "_________________________________________________________________\n",
      "dense_1 (Dense)              (None, 5)                 325       \n",
      "_________________________________________________________________\n",
      "activation_1 (Activation)    (None, 5)                 0         \n",
      "=================================================================\n",
      "Total params: 62,789\n",
      "Trainable params: 62,789\n",
      "Non-trainable params: 0\n",
      "_________________________________________________________________\n"
     ]
    }
   ],
   "source": [
    "model = Sequential()\n",
    "model.add(LSTM(64,input_shape=(10,50),return_sequences=True))\n",
    "model.add(Dropout(0.4))\n",
    "model.add(LSTM(64,input_shape=(10,50)))\n",
    "model.add(Dropout(0.3))\n",
    "model.add(Dense(5))\n",
    "model.add(Activation('softmax'))\n",
    "model.summary()"
   ]
  },
  {
   "cell_type": "code",
   "execution_count": 20,
   "metadata": {},
   "outputs": [
    {
     "name": "stdout",
     "output_type": "stream",
     "text": [
      "Train on 118 samples, validate on 14 samples\n",
      "Epoch 1/40\n",
      "118/118 [==============================] - 7s 58ms/step - loss: 1.5949 - acc: 0.2288 - val_loss: 1.5810 - val_acc: 0.2857\n",
      "Epoch 2/40\n",
      "118/118 [==============================] - 0s 3ms/step - loss: 1.5302 - acc: 0.3390 - val_loss: 1.5975 - val_acc: 0.3571\n",
      "Epoch 3/40\n",
      "118/118 [==============================] - 0s 3ms/step - loss: 1.4703 - acc: 0.4068 - val_loss: 1.6317 - val_acc: 0.1429\n",
      "Epoch 4/40\n",
      "118/118 [==============================] - 0s 3ms/step - loss: 1.4353 - acc: 0.3644 - val_loss: 1.6520 - val_acc: 0.1429\n",
      "Epoch 5/40\n",
      "118/118 [==============================] - 0s 3ms/step - loss: 1.3734 - acc: 0.4153 - val_loss: 1.5705 - val_acc: 0.1429\n",
      "Epoch 6/40\n",
      "118/118 [==============================] - 0s 3ms/step - loss: 1.3051 - acc: 0.4746 - val_loss: 1.4355 - val_acc: 0.3571\n",
      "Epoch 7/40\n",
      "118/118 [==============================] - 0s 3ms/step - loss: 1.1991 - acc: 0.5424 - val_loss: 1.3266 - val_acc: 0.3571\n",
      "Epoch 8/40\n",
      "118/118 [==============================] - 0s 3ms/step - loss: 1.1206 - acc: 0.5847 - val_loss: 1.2669 - val_acc: 0.3571\n",
      "Epoch 9/40\n",
      "118/118 [==============================] - 0s 3ms/step - loss: 0.9657 - acc: 0.6610 - val_loss: 1.1886 - val_acc: 0.5000\n",
      "Epoch 10/40\n",
      "118/118 [==============================] - 0s 3ms/step - loss: 0.8542 - acc: 0.6695 - val_loss: 1.0430 - val_acc: 0.5714\n",
      "Epoch 11/40\n",
      "118/118 [==============================] - 0s 3ms/step - loss: 0.7656 - acc: 0.7542 - val_loss: 1.0070 - val_acc: 0.5714\n",
      "Epoch 12/40\n",
      "118/118 [==============================] - 0s 3ms/step - loss: 0.6983 - acc: 0.7797 - val_loss: 1.1206 - val_acc: 0.6429\n",
      "Epoch 13/40\n",
      "118/118 [==============================] - 0s 3ms/step - loss: 0.5950 - acc: 0.7881 - val_loss: 1.0666 - val_acc: 0.5714\n",
      "Epoch 14/40\n",
      "118/118 [==============================] - 0s 3ms/step - loss: 0.5618 - acc: 0.8136 - val_loss: 0.8446 - val_acc: 0.7143\n",
      "Epoch 15/40\n",
      "118/118 [==============================] - 0s 3ms/step - loss: 0.5206 - acc: 0.8390 - val_loss: 1.1363 - val_acc: 0.6429\n",
      "Epoch 16/40\n",
      "118/118 [==============================] - 0s 3ms/step - loss: 0.4014 - acc: 0.8559 - val_loss: 0.7811 - val_acc: 0.6429\n",
      "Epoch 17/40\n",
      "118/118 [==============================] - 0s 3ms/step - loss: 0.3895 - acc: 0.8559 - val_loss: 1.0430 - val_acc: 0.6429\n",
      "Epoch 18/40\n",
      "118/118 [==============================] - 0s 3ms/step - loss: 0.4485 - acc: 0.8305 - val_loss: 0.9682 - val_acc: 0.6429\n",
      "Epoch 19/40\n",
      "118/118 [==============================] - 0s 3ms/step - loss: 0.3994 - acc: 0.8559 - val_loss: 0.7875 - val_acc: 0.6429\n",
      "Epoch 20/40\n",
      "118/118 [==============================] - 0s 3ms/step - loss: 0.2945 - acc: 0.8814 - val_loss: 1.2621 - val_acc: 0.4286\n",
      "Epoch 21/40\n",
      "118/118 [==============================] - 0s 3ms/step - loss: 0.3655 - acc: 0.8814 - val_loss: 0.8797 - val_acc: 0.6429\n",
      "Epoch 22/40\n",
      "118/118 [==============================] - 0s 3ms/step - loss: 0.2873 - acc: 0.8983 - val_loss: 1.1551 - val_acc: 0.5714\n",
      "Epoch 23/40\n",
      "118/118 [==============================] - 0s 3ms/step - loss: 0.2234 - acc: 0.9237 - val_loss: 1.3995 - val_acc: 0.5000\n",
      "Epoch 24/40\n",
      "118/118 [==============================] - 0s 3ms/step - loss: 0.2382 - acc: 0.9237 - val_loss: 0.7983 - val_acc: 0.6429\n",
      "Epoch 25/40\n",
      "118/118 [==============================] - 0s 3ms/step - loss: 0.2049 - acc: 0.9068 - val_loss: 1.1960 - val_acc: 0.6429\n",
      "Epoch 26/40\n",
      "118/118 [==============================] - 0s 3ms/step - loss: 0.1781 - acc: 0.9576 - val_loss: 1.1265 - val_acc: 0.6429\n",
      "Epoch 27/40\n",
      "118/118 [==============================] - 0s 3ms/step - loss: 0.1433 - acc: 0.9661 - val_loss: 0.8738 - val_acc: 0.6429\n",
      "Epoch 28/40\n",
      "118/118 [==============================] - 0s 3ms/step - loss: 0.1363 - acc: 0.9661 - val_loss: 1.1645 - val_acc: 0.5714\n",
      "Epoch 29/40\n",
      "118/118 [==============================] - 0s 3ms/step - loss: 0.1666 - acc: 0.9237 - val_loss: 1.7009 - val_acc: 0.5714\n",
      "Epoch 30/40\n",
      "118/118 [==============================] - 0s 3ms/step - loss: 0.0860 - acc: 0.9915 - val_loss: 0.9042 - val_acc: 0.6429\n",
      "Epoch 31/40\n",
      "118/118 [==============================] - 0s 3ms/step - loss: 0.1007 - acc: 0.9576 - val_loss: 0.9596 - val_acc: 0.6429\n",
      "Epoch 32/40\n",
      "118/118 [==============================] - 0s 3ms/step - loss: 0.0667 - acc: 0.9915 - val_loss: 1.3823 - val_acc: 0.6429\n",
      "Epoch 33/40\n",
      "118/118 [==============================] - 0s 3ms/step - loss: 0.0692 - acc: 0.9915 - val_loss: 0.9128 - val_acc: 0.6429\n",
      "Epoch 34/40\n",
      "118/118 [==============================] - 0s 3ms/step - loss: 0.1130 - acc: 0.9576 - val_loss: 1.3478 - val_acc: 0.6429\n",
      "Epoch 35/40\n",
      "118/118 [==============================] - 0s 3ms/step - loss: 0.0700 - acc: 0.9915 - val_loss: 1.8252 - val_acc: 0.5714\n",
      "Epoch 36/40\n",
      "118/118 [==============================] - 0s 3ms/step - loss: 0.0906 - acc: 0.9746 - val_loss: 0.7264 - val_acc: 0.6429\n",
      "Epoch 37/40\n",
      "118/118 [==============================] - 0s 3ms/step - loss: 0.1403 - acc: 0.9492 - val_loss: 1.1899 - val_acc: 0.6429\n",
      "Epoch 38/40\n",
      "118/118 [==============================] - 0s 3ms/step - loss: 0.1041 - acc: 0.9661 - val_loss: 0.9404 - val_acc: 0.7143\n",
      "Epoch 39/40\n",
      "118/118 [==============================] - 0s 3ms/step - loss: 0.0371 - acc: 1.0000 - val_loss: 0.8710 - val_acc: 0.6429\n",
      "Epoch 40/40\n",
      "118/118 [==============================] - 0s 3ms/step - loss: 0.0954 - acc: 0.9661 - val_loss: 1.0100 - val_acc: 0.6429\n"
     ]
    },
    {
     "data": {
      "text/plain": [
       "<keras.callbacks.callbacks.History at 0x1a33e550f88>"
      ]
     },
     "execution_count": 20,
     "metadata": {},
     "output_type": "execute_result"
    }
   ],
   "source": [
    "model.compile(optimizer='adam',loss='categorical_crossentropy',metrics=['acc'])\n",
    "model.fit(emb_XT,YT,batch_size=32,epochs=40,shuffle=True,validation_split=0.1)"
   ]
  },
  {
   "cell_type": "code",
   "execution_count": null,
   "metadata": {},
   "outputs": [],
   "source": []
  },
  {
   "cell_type": "code",
   "execution_count": null,
   "metadata": {},
   "outputs": [],
   "source": []
  },
  {
   "cell_type": "code",
   "execution_count": 21,
   "metadata": {},
   "outputs": [
    {
     "name": "stdout",
     "output_type": "stream",
     "text": [
      "56/56 [==============================] - 0s 1ms/step\n"
     ]
    },
    {
     "data": {
      "text/plain": [
       "[1.5879955462047033, 0.625]"
      ]
     },
     "execution_count": 21,
     "metadata": {},
     "output_type": "execute_result"
    }
   ],
   "source": [
    "model.evaluate(emb_Xt,Yt)"
   ]
  },
  {
   "cell_type": "code",
   "execution_count": 22,
   "metadata": {},
   "outputs": [],
   "source": [
    "pred = model.predict_classes(emb_Xt)"
   ]
  },
  {
   "cell_type": "code",
   "execution_count": 23,
   "metadata": {},
   "outputs": [
    {
     "name": "stdout",
     "output_type": "stream",
     "text": [
      "I want to eat\n",
      "🍴\n",
      "🍴\n",
      "he did not answer\n",
      "😓\n",
      "😓\n",
      "he got a raise\n",
      "😁\n",
      "😁\n",
      "she got me a present\n",
      "❤️\n",
      "😁\n",
      "ha ha ha it was so funny\n",
      "😁\n",
      "😁\n",
      "he is a good friend\n",
      "❤️\n",
      "😁\n",
      "I am upset\n",
      "❤️\n",
      "😓\n",
      "We had such a lovely dinner tonight\n",
      "❤️\n",
      "😁\n",
      "where is the food\n",
      "🍴\n",
      "🍴\n",
      "Stop making this joke ha ha ha\n",
      "😁\n",
      "😁\n",
      "where is the ball\n",
      "⚾\n",
      "⚾\n",
      "work is hard\n",
      "😓\n",
      "😁\n",
      "This girl is messing with me\n",
      "😓\n",
      "❤️\n",
      "are you serious ha ha\n",
      "😁\n",
      "❤️\n",
      "Let us go play baseball\n",
      "⚾\n",
      "⚾\n",
      "This stupid grader is not working\n",
      "😓\n",
      "😓\n",
      "work is horrible\n",
      "😓\n",
      "😁\n",
      "Congratulation for having a baby\n",
      "😁\n",
      "😁\n",
      "stop messing around\n",
      "😓\n",
      "😓\n",
      "any suggestions for dinner\n",
      "🍴\n",
      "😁\n",
      "I love taking breaks\n",
      "❤️\n",
      "❤️\n",
      "you brighten my day\n",
      "😁\n",
      "❤️\n",
      "I boiled rice\n",
      "🍴\n",
      "🍴\n",
      "she is a bully\n",
      "😓\n",
      "😁\n",
      "Why are you feeling bad\n",
      "😓\n",
      "😓\n",
      "I am upset\n",
      "😓\n",
      "😓\n",
      "I worked during my birthday\n",
      "😓\n",
      "😁\n",
      "My grandmother is the love of my life\n",
      "❤️\n",
      "❤️\n",
      "enjoy your break\n",
      "😁\n",
      "⚾\n",
      "valentine day is near\n",
      "❤️\n",
      "😁\n"
     ]
    }
   ],
   "source": [
    "for i in range(30):\n",
    "    print(' '.join(Xt[i]))\n",
    "    print(emoji.emojize(emoji_dictionary[str(np.argmax(Yt[i]))]))\n",
    "    print(emoji.emojize(emoji_dictionary[str(pred[i])]))"
   ]
  },
  {
   "cell_type": "code",
   "execution_count": 24,
   "metadata": {},
   "outputs": [],
   "source": [
    "with open(\"model.json\", \"w\") as file:\n",
    "    file.write(model.to_json())\n",
    "model.save_weights(\"model.h5\")"
   ]
  },
  {
   "cell_type": "code",
   "execution_count": null,
   "metadata": {},
   "outputs": [],
   "source": []
  },
  {
   "cell_type": "code",
   "execution_count": 25,
   "metadata": {},
   "outputs": [],
   "source": [
    "from keras.models import model_from_json"
   ]
  },
  {
   "cell_type": "code",
   "execution_count": 26,
   "metadata": {},
   "outputs": [],
   "source": [
    "with open(\"model.json\", \"r\") as file:\n",
    "    model = model_from_json(file.read())\n",
    "model.load_weights(\"model.h5\")"
   ]
  },
  {
   "cell_type": "code",
   "execution_count": null,
   "metadata": {},
   "outputs": [],
   "source": []
  },
  {
   "cell_type": "code",
   "execution_count": 27,
   "metadata": {},
   "outputs": [],
   "source": [
    "test_str = \"Hello how are you\"\n",
    "X = pd.Series([test_str])"
   ]
  },
  {
   "cell_type": "code",
   "execution_count": 28,
   "metadata": {},
   "outputs": [],
   "source": [
    "emb_X = getOutputEmbeddings(X)"
   ]
  },
  {
   "cell_type": "code",
   "execution_count": 29,
   "metadata": {},
   "outputs": [],
   "source": [
    "p = model.predict_classes(emb_X)"
   ]
  },
  {
   "cell_type": "code",
   "execution_count": 30,
   "metadata": {},
   "outputs": [
    {
     "name": "stdout",
     "output_type": "stream",
     "text": [
      "Hello how are you\n",
      "❤️\n"
     ]
    }
   ],
   "source": [
    "print(' '.join(X[0]))\n",
    "print(emoji.emojize(emoji_dictionary[str(p[0])]))"
   ]
  },
  {
   "cell_type": "code",
   "execution_count": null,
   "metadata": {},
   "outputs": [],
   "source": []
  },
  {
   "cell_type": "code",
   "execution_count": null,
   "metadata": {},
   "outputs": [],
   "source": []
  },
  {
   "cell_type": "code",
   "execution_count": null,
   "metadata": {},
   "outputs": [],
   "source": []
  },
  {
   "cell_type": "code",
   "execution_count": null,
   "metadata": {},
   "outputs": [],
   "source": []
  }
 ],
 "metadata": {
  "kernelspec": {
   "display_name": "Python 3",
   "language": "python",
   "name": "python3"
  },
  "language_info": {
   "codemirror_mode": {
    "name": "ipython",
    "version": 3
   },
   "file_extension": ".py",
   "mimetype": "text/x-python",
   "name": "python",
   "nbconvert_exporter": "python",
   "pygments_lexer": "ipython3",
   "version": "3.7.8"
  }
 },
 "nbformat": 4,
 "nbformat_minor": 2
}
